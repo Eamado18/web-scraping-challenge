{
 "cells": [
  {
   "cell_type": "code",
   "execution_count": 1,
   "id": "ea49626d",
   "metadata": {},
   "outputs": [],
   "source": [
    "from bs4 import BeautifulSoup\n",
    "from splinter import Browser\n",
    "import pandas as pd\n",
    "from webdriver_manager.chrome import ChromeDriverManager"
   ]
  },
  {
   "cell_type": "code",
   "execution_count": 2,
   "id": "2a687bb0",
   "metadata": {},
   "outputs": [
    {
     "name": "stderr",
     "output_type": "stream",
     "text": [
      "\n",
      "\n",
      "====== WebDriver manager ======\n",
      "Current google-chrome version is 96.0.4664\n",
      "Get LATEST chromedriver version for 96.0.4664 google-chrome\n",
      "Driver [/Users/estefany/.wdm/drivers/chromedriver/mac64/96.0.4664.45/chromedriver] found in cache\n"
     ]
    }
   ],
   "source": [
    "executable_path = {'executable_path': ChromeDriverManager().install()}\n",
    "browser = Browser('chrome', **executable_path, headless=False)"
   ]
  },
  {
   "cell_type": "code",
   "execution_count": null,
   "id": "9f5dd6a5",
   "metadata": {},
   "outputs": [],
   "source": [
    "url = 'https://mars.nasa.gov/news/'\n",
    "browser.visit(url)"
   ]
  },
  {
   "cell_type": "markdown",
   "id": "3c4c2e48",
   "metadata": {},
   "source": [
    "## NASA Mars News"
   ]
  },
  {
   "cell_type": "code",
   "execution_count": null,
   "id": "26615dc2",
   "metadata": {},
   "outputs": [],
   "source": [
    "html = browser.html\n",
    "soup = BeautifulSoup(html, \"html.parser\")\n",
    "elem_slide = soup.select_one('div.list_text')"
   ]
  },
  {
   "cell_type": "code",
   "execution_count": null,
   "id": "70f85c68",
   "metadata": {},
   "outputs": [],
   "source": [
    "news_title = elem_slide.find('div', class_='content_title').get_text()\n",
    "news_title"
   ]
  },
  {
   "cell_type": "code",
   "execution_count": null,
   "id": "2f6e53e7",
   "metadata": {},
   "outputs": [],
   "source": [
    "news_p = elem_slide.find('div', class_='article_teaser_body').get_text()\n",
    "news_p "
   ]
  },
  {
   "cell_type": "markdown",
   "id": "637a7a17",
   "metadata": {},
   "source": [
    "## JPL Mars Space Images - Featured Image"
   ]
  },
  {
   "cell_type": "code",
   "execution_count": null,
   "id": "30882132",
   "metadata": {},
   "outputs": [],
   "source": [
    "url = \"https://spaceimages-mars.com\"\n",
    "browser.visit(url)"
   ]
  },
  {
   "cell_type": "code",
   "execution_count": null,
   "id": "b81861a7",
   "metadata": {},
   "outputs": [],
   "source": [
    "full_image = browser.find_by_tag('button')[1]\n",
    "full_image.click()"
   ]
  },
  {
   "cell_type": "code",
   "execution_count": null,
   "id": "c3f4bf32",
   "metadata": {},
   "outputs": [],
   "source": [
    "html = browser.html\n",
    "soup = BeautifulSoup(html, 'html.parser')"
   ]
  },
  {
   "cell_type": "code",
   "execution_count": null,
   "id": "a2f368f9",
   "metadata": {},
   "outputs": [],
   "source": [
    "url_img = soup.find(\"img\", class_=\"fancybox-image\")[\"src\"]\n",
    "url_img"
   ]
  },
  {
   "cell_type": "code",
   "execution_count": null,
   "id": "e89adb93",
   "metadata": {},
   "outputs": [],
   "source": [
    "featured_image_url = f'https://spaceimages-mars.com/{url_img}'\n",
    "featured_image_url"
   ]
  },
  {
   "cell_type": "markdown",
   "id": "1089ce80",
   "metadata": {},
   "source": [
    "## Mars Facts"
   ]
  },
  {
   "cell_type": "code",
   "execution_count": null,
   "id": "290b576a",
   "metadata": {},
   "outputs": [],
   "source": [
    " url = \"https://galaxyfacts-mars.com\""
   ]
  },
  {
   "cell_type": "code",
   "execution_count": null,
   "id": "8d68d7b3",
   "metadata": {},
   "outputs": [],
   "source": [
    "mars_tables = pd.read_html(url)\n",
    "mars_facts = mars_tables[0]\n",
    "mars_facts.head()"
   ]
  },
  {
   "cell_type": "code",
   "execution_count": null,
   "id": "8343bb1c",
   "metadata": {},
   "outputs": [],
   "source": [
    "mars_facts.columns=['Description', 'Mars', 'Earth']\n",
    "mars_facts.set_index('Description', inplace=True)\n",
    "mars_facts"
   ]
  },
  {
   "cell_type": "code",
   "execution_count": null,
   "id": "9fd0a2a9",
   "metadata": {},
   "outputs": [],
   "source": [
    "mars_facts.to_html()"
   ]
  },
  {
   "cell_type": "markdown",
   "id": "00af7101",
   "metadata": {},
   "source": [
    "## Mars Hemispheres"
   ]
  },
  {
   "cell_type": "code",
   "execution_count": 3,
   "id": "8dc864f6",
   "metadata": {},
   "outputs": [],
   "source": [
    "url = 'https://marshemispheres.com'\n",
    "browser.visit(url)\n",
    "html = browser.html"
   ]
  },
  {
   "cell_type": "code",
   "execution_count": 4,
   "id": "8fdca375",
   "metadata": {},
   "outputs": [],
   "source": [
    "soup = BeautifulSoup(html,'html.parser')\n",
    "hemispheres = soup.find_all(\"div\", class_=\"item\")"
   ]
  },
  {
   "cell_type": "code",
   "execution_count": 7,
   "id": "a159e46f",
   "metadata": {},
   "outputs": [
    {
     "name": "stdout",
     "output_type": "stream",
     "text": [
      "\n",
      "Cerberus Hemisphere Enhanced\n",
      "https://marshemispheres.comimages/f5e372a36edfa389625da6d0cc25d905_cerberus_enhanced.tif_full.jpg\n",
      "\n",
      "Schiaparelli Hemisphere Enhanced\n",
      "https://marshemispheres.comimages/3778f7b43bbbc89d6e3cfabb3613ba93_schiaparelli_enhanced.tif_full.jpg\n",
      "\n",
      "Syrtis Major Hemisphere Enhanced\n",
      "https://marshemispheres.comimages/555e6403a6ddd7ba16ddb0e471cadcf7_syrtis_major_enhanced.tif_full.jpg\n",
      "\n",
      "Valles Marineris Hemisphere Enhanced\n",
      "https://marshemispheres.comimages/b3c7c6c9138f57b4756be9b9c43e3a48_valles_marineris_enhanced.tif_full.jpg\n"
     ]
    }
   ],
   "source": [
    "hemisphere_image_urls = []\n",
    "\n",
    "for x in hemispheres:\n",
    "    title = x.find(\"h3\").text\n",
    "    hemispheres_img = x.find(\"a\", class_=\"itemLink product-item\")[\"href\"]\n",
    "    \n",
    "    browser.visit(url + \"/\" + hemispheres_img)\n",
    "    \n",
    "    html = browser.html\n",
    "    web_info = BeautifulSoup(html, \"html.parser\")\n",
    "    \n",
    "    img_url = url + web_info.find(\"img\", class_=\"wide-image\")[\"src\"]\n",
    "    \n",
    "    hemisphere_image_urls.append({\"title\" : title, \"img_url\" : img_url})\n",
    "\n",
    "    print(\"\")\n",
    "    print(title)\n",
    "    print(img_url)"
   ]
  },
  {
   "cell_type": "code",
   "execution_count": null,
   "id": "0850e7f9",
   "metadata": {},
   "outputs": [],
   "source": []
  },
  {
   "cell_type": "code",
   "execution_count": null,
   "id": "0d048657",
   "metadata": {},
   "outputs": [],
   "source": []
  }
 ],
 "metadata": {
  "kernelspec": {
   "display_name": "Python 3",
   "language": "python",
   "name": "python3"
  },
  "language_info": {
   "codemirror_mode": {
    "name": "ipython",
    "version": 3
   },
   "file_extension": ".py",
   "mimetype": "text/x-python",
   "name": "python",
   "nbconvert_exporter": "python",
   "pygments_lexer": "ipython3",
   "version": "3.8.8"
  }
 },
 "nbformat": 4,
 "nbformat_minor": 5
}
